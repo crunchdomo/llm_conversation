{
  "nbformat": 4,
  "nbformat_minor": 0,
  "metadata": {
    "colab": {
      "provenance": [],
      "authorship_tag": "ABX9TyMZ3GBQmcnRMuYjYIJnnkMU",
      "include_colab_link": true
    },
    "kernelspec": {
      "name": "python3",
      "display_name": "Python 3"
    },
    "language_info": {
      "name": "python"
    }
  },
  "cells": [
    {
      "cell_type": "markdown",
      "metadata": {
        "id": "view-in-github",
        "colab_type": "text"
      },
      "source": [
        "<a href=\"https://colab.research.google.com/github/crunchdomo/llm_conversation/blob/main/preprocess.ipynb\" target=\"_parent\"><img src=\"https://colab.research.google.com/assets/colab-badge.svg\" alt=\"Open In Colab\"/></a>"
      ]
    },
    {
      "cell_type": "code",
      "execution_count": 5,
      "metadata": {
        "id": "wdrWGAD-9tBa"
      },
      "outputs": [],
      "source": [
        "import pandas as pd\n",
        "import re\n",
        "\n",
        "# Load CSV\n",
        "df = pd.read_csv('13k-recipes.csv')\n",
        "\n",
        "# Drop irrelevant columns\n",
        "columns_to_drop = ['Ingredients', 'Image_Name']  # Replace with actual column names\n",
        "df.drop(columns=columns_to_drop, axis=1, inplace=True)\n",
        "\n",
        "# Function to convert imperial units to metric\n",
        "def convert_to_metric(ingredient):\n",
        "    # Convert cups to ml (1 cup = 240 ml)\n",
        "    ingredient = re.sub(r'(\\d+)\\s*cups?', lambda m: f\"{int(m.group(1)) * 240} ml\", ingredient)\n",
        "    # Convert tablespoons to ml (1 tbsp = 15 ml)\n",
        "    ingredient = re.sub(r'(\\d+)\\s*tablespoons?', lambda m: f\"{int(m.group(1)) * 15} ml\", ingredient)\n",
        "    # Convert teaspoons to ml (1 tsp = 5 ml)\n",
        "    ingredient = re.sub(r'(\\d+)\\s*teaspoons?', lambda m: f\"{int(m.group(1)) * 5} ml\", ingredient)\n",
        "    return ingredient\n",
        "\n",
        "# Apply conversion to the ingredient column\n",
        "df['Cleaned_Ingredients'] = df['Cleaned_Ingredients'].apply(convert_to_metric)\n",
        "\n",
        "# Save to new CSV\n",
        "df.to_csv('ingredients_preprocessed.csv', index=False)\n"
      ]
    },
    {
      "cell_type": "code",
      "source": [
        "import spacy\n",
        "from spacy.lang.en import English\n",
        "\n",
        "# For rule-based splitting (lightweight)\n",
        "nlp = English()\n",
        "nlp.add_pipe(\"sentencizer\")\n",
        "\n",
        "# For statistical accuracy (requires model download)\n",
        "# !python -m spacy download en_core_web_sm\n",
        "# nlp = spacy.load(\"en_core_web_sm\")\n"
      ],
      "metadata": {
        "colab": {
          "base_uri": "https://localhost:8080/"
        },
        "id": "0GTmD6nhFDWD",
        "outputId": "62e596fd-216c-482d-bc57-ab94440140e1"
      },
      "execution_count": 7,
      "outputs": [
        {
          "output_type": "execute_result",
          "data": {
            "text/plain": [
              "<spacy.pipeline.sentencizer.Sentencizer at 0x7c12ee39bc50>"
            ]
          },
          "metadata": {},
          "execution_count": 7
        }
      ]
    },
    {
      "cell_type": "code",
      "source": [
        "import pandas as pd\n",
        "import spacy\n",
        "from spacy.lang.en import English\n",
        "import nltk\n",
        "\n",
        "# Download both 'punkt' and 'punkt_tab' just to be safe, as the error specifically requested 'punkt_tab'\n",
        "nltk.download(\"punkt\")\n",
        "nltk.download(\"punkt_tab\") # Add this line to download the specific resource\n",
        "\n",
        "from nltk.tokenize import sent_tokenize\n",
        "\n",
        "df = pd.read_csv(\"ingredients_preprocessed.csv\")\n",
        "\n",
        "# For rule-based splitting (lightweight)\n",
        "nlp = English()\n",
        "nlp.add_pipe(\"sentencizer\")\n",
        "\n",
        "# For statistical accuracy (requires model download)\n",
        "# !python -m spacy download en_core_web_sm\n",
        "# nlp = spacy.load(\"en_core_web_sm\")\n",
        "\n",
        "\n",
        "def split_with_nltk(text):\n",
        "    # Ensure the input is a string before tokenizing\n",
        "    if isinstance(text, str):\n",
        "        return sent_tokenize(text)\n",
        "    else:\n",
        "        # Handle non-string inputs, perhaps return an empty list or a specific indicator\n",
        "        return []\n",
        "\n",
        "\n",
        "def split_with_spacy(text):\n",
        "    # Ensure the input is a string before tokenizing\n",
        "    if isinstance(text, str):\n",
        "        doc = nlp(text)\n",
        "        return [sent.text for sent in doc.sents]\n",
        "    else:\n",
        "        # Handle non-string inputs\n",
        "        return []\n",
        "\n",
        "# Use the NLTK splitter first\n",
        "df[\"Instruction_Steps\"] = df[\"Instructions\"].apply(split_with_nltk)\n",
        "\n",
        "# Assuming your DataFrame is called 'df'\n",
        "import pandas as pd\n",
        "import spacy\n",
        "from spacy.lang.en import English\n",
        "import nltk\n",
        "import re\n",
        "\n",
        "nltk.download(\"punkt\")\n",
        "nlp = English()\n",
        "nlp.add_pipe(\"sentencizer\")\n",
        "\n",
        "def merge_steps(sentences):\n",
        "    merged = []\n",
        "    current_step = []\n",
        "\n",
        "    for sent in sentences:\n",
        "        # Clean up whitespace\n",
        "        sent = re.sub(r'\\s+', ' ', sent).strip()\n",
        "\n",
        "        # Merge conditions\n",
        "        if should_merge(sent, current_step):\n",
        "            current_step.append(sent)\n",
        "        else:\n",
        "            if current_step:\n",
        "                merged.append(\" \".join(current_step))\n",
        "            current_step = [sent]\n",
        "\n",
        "    if current_step:\n",
        "        merged.append(\" \".join(current_step))\n",
        "\n",
        "    return merged\n",
        "\n",
        "def should_merge(sent, current_step):\n",
        "    if not current_step:\n",
        "        return False\n",
        "    # Merge if sentence starts with lowercase or is short\n",
        "    return (sent[0].islower() or\n",
        "            len(sent.split()) < 5 or\n",
        "            sent.startswith(('and ', 'or ', 'then ', 'but ')))\n",
        "\n",
        "# Updated processing pipeline\n",
        "def process_instructions(text):\n",
        "    if not isinstance(text, str):\n",
        "        return []\n",
        "\n",
        "    # Initial split with NLTK\n",
        "    sentences = sent_tokenize(text)\n",
        "\n",
        "    # Merge using recipe-specific logic\n",
        "    return merge_steps(sentences)\n",
        "\n",
        "# Apply to DataFrame\n",
        "df[\"Instruction_Steps\"] = df[\"Instructions\"].apply(process_instructions)\n",
        "df['Numbered_Steps'] = df['Instruction_Steps'].apply(\n",
        "    lambda steps: [f\"Step {i+1}: {step}\" for i, step in enumerate(steps)]\n",
        ")\n",
        "# To see the results for the first recipe\n",
        "print(df.loc[0, 'Numbered_Steps'])\n",
        "\n",
        "\n",
        "# Convert the 'Instructions' column to string type before applying the function\n",
        "# There seems to be an error in the original code where it applies split_with_spacy\n",
        "# after applying split_with_nltk, overwriting the result.\n",
        "# You likely only want to use one of them.\n",
        "# If you want to use spaCy instead, uncomment the line below and remove the NLTK apply line.\n",
        "# df[\"Instruction_Steps\"] = df[\"Instructions\"].astype(str).apply(split_with_spacy)"
      ],
      "metadata": {
        "colab": {
          "base_uri": "https://localhost:8080/"
        },
        "id": "MjqZsxjUFOjP",
        "outputId": "1696a9dc-5e72-470f-ac70-f46f3320d5cb"
      },
      "execution_count": 16,
      "outputs": [
        {
          "output_type": "stream",
          "name": "stderr",
          "text": [
            "[nltk_data] Downloading package punkt to /root/nltk_data...\n",
            "[nltk_data]   Package punkt is already up-to-date!\n",
            "[nltk_data] Downloading package punkt_tab to /root/nltk_data...\n",
            "[nltk_data]   Package punkt_tab is already up-to-date!\n",
            "[nltk_data] Downloading package punkt to /root/nltk_data...\n",
            "[nltk_data]   Package punkt is already up-to-date!\n"
          ]
        },
        {
          "output_type": "stream",
          "name": "stdout",
          "text": [
            "['Step 1: Pat chicken dry with paper towels, season all over with 2 tsp. salt, and tie legs together with kitchen twine.', 'Step 2: Let sit at room temperature 1 hour.', 'Step 3: Meanwhile, halve squash and scoop out seeds.', 'Step 4: Run a vegetable peeler along ridges of squash halves to remove skin.', 'Step 5: Cut each half into ½\"-thick wedges; arrange on a rimmed baking sheet.', 'Step 6: Combine sage, rosemary, and 6 Tbsp. melted butter in a large bowl; pour half of mixture over squash on baking sheet.', 'Step 7: Sprinkle squash with allspice, red pepper flakes, and ½ tsp. salt and season with black pepper; toss to coat.', 'Step 8: Add bread, apples, oil, and ¼ tsp. salt to remaining herb butter in bowl; season with black pepper and toss to combine. Set aside.', 'Step 9: Place onion and vinegar in a small bowl; season with salt and toss to coat.', 'Step 10: Let sit, tossing occasionally, until ready to serve.', 'Step 11: Place a rack in middle and lower third of oven; preheat to 425°F.', 'Step 12: Mix miso and 3 Tbsp. room-temperature butter in a small bowl until smooth.', 'Step 13: Pat chicken dry with paper towels, then rub or brush all over with miso butter.', 'Step 14: Place chicken in a large cast-iron skillet and roast on middle rack until an instant-read thermometer inserted into the thickest part of breast registers 155°F, 50–60 minutes.', 'Step 15: (Temperature will climb to 165°F while chicken rests.)', 'Step 16: Let chicken rest in skillet at least 5 minutes, then transfer to a plate; reserve skillet.', 'Step 17: Meanwhile, roast squash on lower rack until mostly tender, about 25 minutes.', 'Step 18: Remove from oven and scatter reserved bread mixture over, spreading into as even a layer as you can manage.', 'Step 19: Return to oven and roast until bread is golden brown and crisp and apples are tender, about 15 minutes.', 'Step 20: Remove from oven, drain pickled onions, and toss to combine.', 'Step 21: Transfer to a serving dish.', 'Step 22: Using your fingers, mash flour and butter in a small bowl to combine.', 'Step 23: Set reserved skillet with chicken drippings over medium heat.', 'Step 24: You should have about ¼ cup, but a little over or under is all good.', 'Step 25: (If you have significantly more, drain off and set excess aside.)', 'Step 26: Add wine and cook, stirring often and scraping up any browned bits with a wooden spoon, until bits are loosened and wine is reduced by about half (you should be able to smell the wine), about 2 minutes.', 'Step 27: Add butter mixture; cook, stirring often, until a smooth paste forms, about 2 minutes.', 'Step 28: Add broth and any reserved drippings and cook, stirring constantly, until combined and thickened, 6–8 minutes.', 'Step 29: Remove from heat and stir in miso.', 'Step 30: Taste and season with salt and black pepper.', 'Step 31: Serve chicken with gravy and squash panzanella alongside.']\n"
          ]
        }
      ]
    },
    {
      "cell_type": "code",
      "source": [
        "df.to_csv('ingredients_preprocessed.csv', index=False)\n"
      ],
      "metadata": {
        "id": "f8iyJSabFeNU"
      },
      "execution_count": 17,
      "outputs": []
    }
  ]
}