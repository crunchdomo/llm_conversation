{
  "cells": [
    {
      "cell_type": "markdown",
      "metadata": {
        "colab_type": "text",
        "id": "view-in-github"
      },
      "source": [
        "<a href=\"https://colab.research.google.com/github/crunchdomo/llm_conversation/blob/main/preprocess.ipynb\" target=\"_parent\"><img src=\"https://colab.research.google.com/assets/colab-badge.svg\" alt=\"Open In Colab\"/></a>"
      ]
    },
    {
      "cell_type": "code",
      "execution_count": 13,
      "metadata": {},
      "outputs": [
        {
          "name": "stdout",
          "output_type": "stream",
          "text": [
            "Collecting nltk\n",
            "  Downloading nltk-3.9.1-py3-none-any.whl.metadata (2.9 kB)\n",
            "Requirement already satisfied: click in c:\\users\\oenfa\\miniconda3\\lib\\site-packages (from nltk) (8.1.8)\n",
            "Collecting joblib (from nltk)\n",
            "  Downloading joblib-1.5.0-py3-none-any.whl.metadata (5.6 kB)\n",
            "Requirement already satisfied: regex>=2021.8.3 in c:\\users\\oenfa\\miniconda3\\lib\\site-packages (from nltk) (2024.11.6)\n",
            "Requirement already satisfied: tqdm in c:\\users\\oenfa\\miniconda3\\lib\\site-packages (from nltk) (4.66.2)\n",
            "Requirement already satisfied: colorama in c:\\users\\oenfa\\miniconda3\\lib\\site-packages (from click->nltk) (0.4.6)\n",
            "Downloading nltk-3.9.1-py3-none-any.whl (1.5 MB)\n",
            "   ---------------------------------------- 0.0/1.5 MB ? eta -:--:--\n",
            "   ---------------------------------------- 1.5/1.5 MB 27.0 MB/s eta 0:00:00\n",
            "Downloading joblib-1.5.0-py3-none-any.whl (307 kB)\n",
            "Installing collected packages: joblib, nltk\n",
            "\n",
            "   ---------------------------------------- 0/2 [joblib]\n",
            "   -------------------- ------------------- 1/2 [nltk]\n",
            "   -------------------- ------------------- 1/2 [nltk]\n",
            "   -------------------- ------------------- 1/2 [nltk]\n",
            "   -------------------- ------------------- 1/2 [nltk]\n",
            "   -------------------- ------------------- 1/2 [nltk]\n",
            "   -------------------- ------------------- 1/2 [nltk]\n",
            "   -------------------- ------------------- 1/2 [nltk]\n",
            "   ---------------------------------------- 2/2 [nltk]\n",
            "\n",
            "Successfully installed joblib-1.5.0 nltk-3.9.1\n"
          ]
        }
      ],
      "source": [
        "!pip install nltk"
      ]
    },
    {
      "cell_type": "code",
      "execution_count": 10,
      "metadata": {
        "id": "wdrWGAD-9tBa"
      },
      "outputs": [],
      "source": [
        "import pandas as pd\n",
        "import re\n",
        "\n",
        "# Load CSV\n",
        "df = pd.read_csv('13k-recipes.csv')\n",
        "\n",
        "# Drop irrelevant columns\n",
        "columns_to_drop = ['Ingredients', 'Image_Name']  # Replace with actual column names\n",
        "df.drop(columns=columns_to_drop, axis=1, inplace=True)\n",
        "\n",
        "# Function to convert imperial units to metric\n",
        "def convert_to_metric(ingredient):\n",
        "    # Convert cups to ml (1 cup = 240 ml)\n",
        "    ingredient = re.sub(r'(\\d+)\\s*cups?', lambda m: f\"{int(m.group(1)) * 240} ml\", ingredient)\n",
        "    # Convert tablespoons to ml (1 tbsp = 15 ml)\n",
        "    ingredient = re.sub(r'(\\d+)\\s*tablespoons?', lambda m: f\"{int(m.group(1)) * 15} ml\", ingredient)\n",
        "    # Convert teaspoons to ml (1 tsp = 5 ml)\n",
        "    ingredient = re.sub(r'(\\d+)\\s*teaspoons?', lambda m: f\"{int(m.group(1)) * 5} ml\", ingredient)\n",
        "    return ingredient\n",
        "\n",
        "# Apply conversion to the ingredient column\n",
        "df['Cleaned_Ingredients'] = df['Cleaned_Ingredients'].apply(convert_to_metric)\n",
        "\n",
        "# Save to new CSV\n",
        "df.to_csv('ingredients_preprocessed.csv', index=False)\n"
      ]
    },
    {
      "cell_type": "code",
      "execution_count": 11,
      "metadata": {
        "colab": {
          "base_uri": "https://localhost:8080/"
        },
        "id": "0GTmD6nhFDWD",
        "outputId": "62e596fd-216c-482d-bc57-ab94440140e1"
      },
      "outputs": [
        {
          "data": {
            "text/plain": [
              "<spacy.pipeline.sentencizer.Sentencizer at 0x18e97ee1f50>"
            ]
          },
          "execution_count": 11,
          "metadata": {},
          "output_type": "execute_result"
        }
      ],
      "source": [
        "import spacy\n",
        "from spacy.lang.en import English\n",
        "\n",
        "# For rule-based splitting (lightweight)\n",
        "nlp = English()\n",
        "nlp.add_pipe(\"sentencizer\")\n",
        "\n",
        "# For statistical accuracy (requires model download)\n",
        "# !python -m spacy download en_core_web_sm\n",
        "# nlp = spacy.load(\"en_core_web_sm\")\n"
      ]
    },
    {
      "cell_type": "code",
      "execution_count": 20,
      "metadata": {
        "colab": {
          "base_uri": "https://localhost:8080/"
        },
        "id": "MjqZsxjUFOjP",
        "outputId": "1696a9dc-5e72-470f-ac70-f46f3320d5cb"
      },
      "outputs": [
        {
          "name": "stderr",
          "output_type": "stream",
          "text": [
            "[nltk_data] Downloading package punkt to\n",
            "[nltk_data]     C:\\Users\\oenfa\\AppData\\Roaming\\nltk_data...\n",
            "[nltk_data]   Package punkt is already up-to-date!\n",
            "[nltk_data] Downloading package punkt to\n",
            "[nltk_data]     C:\\Users\\oenfa\\AppData\\Roaming\\nltk_data...\n",
            "[nltk_data]   Package punkt is already up-to-date!\n"
          ]
        }
      ],
      "source": [
        "import pandas as pd\n",
        "import re\n",
        "import nltk\n",
        "nltk.download(\"punkt\")\n",
        "from nltk.tokenize import sent_tokenize\n",
        "import json\n",
        "\n",
        "# Load your CSV\n",
        "df = pd.read_csv(\"ingredients_preprocessed.csv\")\n",
        "\n",
        "def ingredients_to_list(ingredients_str):\n",
        "    if not isinstance(ingredients_str, str):\n",
        "        return []\n",
        "    items = re.split(r',|;', ingredients_str)\n",
        "    return [item.strip() for item in items if item.strip()]\n",
        "\n",
        "def merge_steps(sentences):\n",
        "    merged = []\n",
        "    current_step = []\n",
        "    for sent in sentences:\n",
        "        sent = re.sub(r'\\s+', ' ', sent).strip()\n",
        "        if should_merge(sent, current_step):\n",
        "            current_step.append(sent)\n",
        "        else:\n",
        "            if current_step:\n",
        "                merged.append(\" \".join(current_step))\n",
        "            current_step = [sent]\n",
        "    if current_step:\n",
        "        merged.append(\" \".join(current_step))\n",
        "    return merged\n",
        "\n",
        "def should_merge(sent, current_step):\n",
        "    if not current_step:\n",
        "        return False\n",
        "    return (sent[0].islower() or\n",
        "            len(sent.split()) < 5 or\n",
        "            sent.startswith(('and ', 'or ', 'then ', 'but ')))\n",
        "\n",
        "\n",
        "import re\n",
        "import nltk\n",
        "nltk.download(\"punkt\")\n",
        "from nltk.tokenize import sent_tokenize\n",
        "\n",
        "def extract_steps(instructions, max_steps=20):\n",
        "    if not isinstance(instructions, str) or len(instructions.strip()) < 10:\n",
        "        return []\n",
        "\n",
        "    text = instructions.strip()\n",
        "\n",
        "    # 1. Try to split by numbered steps\n",
        "    numbered = re.split(r'(?:^|\\n)\\s*(?:\\d+[\\.\\)]|Step\\s*\\d+)\\s*', text)\n",
        "    steps = [s.strip() for s in numbered if s.strip()]\n",
        "    if len(steps) > 1:\n",
        "        return steps if len(steps) <= max_steps else merge_excess_steps(steps, max_steps)\n",
        "\n",
        "    # 2. Try to split by paragraphs\n",
        "    paragraphs = [p.strip() for p in re.split(r'\\n{2,}', text) if p.strip()]\n",
        "    if len(paragraphs) > 1:\n",
        "        return paragraphs if len(paragraphs) <= max_steps else merge_excess_steps(paragraphs, max_steps)\n",
        "\n",
        "    # 3. Fallback: sentence tokenization and aggressive merging\n",
        "    sentences = sent_tokenize(text)\n",
        "    merged = []\n",
        "    current = \"\"\n",
        "    for sent in sentences:\n",
        "        # Merge if sentence is short or starts with lowercase/conjunction/parenthesis\n",
        "        if (len(sent.split()) < 8 or\n",
        "            sent[0].islower() or\n",
        "            sent.startswith(('and ', 'or ', 'then ', 'but ', '('))):\n",
        "            current += \" \" + sent\n",
        "        else:\n",
        "            if current:\n",
        "                merged.append(current.strip())\n",
        "            current = sent\n",
        "    if current:\n",
        "        merged.append(current.strip())\n",
        "\n",
        "    # If too many steps, merge last ones\n",
        "    if len(merged) > max_steps:\n",
        "        merged = merge_excess_steps(merged, max_steps)\n",
        "    return merged\n",
        "\n",
        "def merge_excess_steps(steps, max_steps):\n",
        "    # Merge the last steps together so total does not exceed max_steps\n",
        "    if len(steps) <= max_steps:\n",
        "        return steps\n",
        "    merged = steps[:max_steps-1]\n",
        "    merged.append(' '.join(steps[max_steps-1:]))\n",
        "    return merged\n",
        "\n",
        "\n",
        "\n",
        "def process_instructions(text):\n",
        "    if not isinstance(text, str):\n",
        "        return []\n",
        "    sentences = sent_tokenize(text)\n",
        "    return merge_steps(sentences)\n",
        "\n",
        "structured_recipes = []\n",
        "for idx, row in df.iterrows():\n",
        "    steps = extract_steps(row[\"Instructions\"])\n",
        "    recipe = {\n",
        "        \"title\": row[\"Title\"],\n",
        "        \"ingredients\": ingredients_to_list(row[\"Cleaned_Ingredients\"]),\n",
        "        \"instructions\": {i+1: step for i, step in enumerate(steps)}\n",
        "    }\n",
        "    structured_recipes.append(recipe)\n",
        "\n",
        "# Save to JSON\n",
        "with open(\"structured_recipes.json\", \"w\", encoding=\"utf-8\") as f:\n",
        "    json.dump(structured_recipes, f, ensure_ascii=False, indent=4)"
      ]
    }
  ],
  "metadata": {
    "colab": {
      "authorship_tag": "ABX9TyMZ3GBQmcnRMuYjYIJnnkMU",
      "include_colab_link": true,
      "provenance": []
    },
    "kernelspec": {
      "display_name": "base",
      "language": "python",
      "name": "python3"
    },
    "language_info": {
      "codemirror_mode": {
        "name": "ipython",
        "version": 3
      },
      "file_extension": ".py",
      "mimetype": "text/x-python",
      "name": "python",
      "nbconvert_exporter": "python",
      "pygments_lexer": "ipython3",
      "version": "3.12.3"
    }
  },
  "nbformat": 4,
  "nbformat_minor": 0
}
