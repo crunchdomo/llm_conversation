{
  "nbformat": 4,
  "nbformat_minor": 0,
  "metadata": {
    "colab": {
      "provenance": [],
      "authorship_tag": "ABX9TyME7inJYOOkFrp9jcwQQiVA",
      "include_colab_link": true
    },
    "kernelspec": {
      "name": "python3",
      "display_name": "Python 3"
    },
    "language_info": {
      "name": "python"
    }
  },
  "cells": [
    {
      "cell_type": "markdown",
      "metadata": {
        "id": "view-in-github",
        "colab_type": "text"
      },
      "source": [
        "<a href=\"https://colab.research.google.com/github/crunchdomo/llm_conversation/blob/main/variation_generation.ipynb\" target=\"_parent\"><img src=\"https://colab.research.google.com/assets/colab-badge.svg\" alt=\"Open In Colab\"/></a>"
      ]
    },
    {
      "cell_type": "code",
      "execution_count": null,
      "metadata": {
        "colab": {
          "base_uri": "https://localhost:8080/"
        },
        "id": "hCFm4gfuMWfG",
        "outputId": "534d86a5-5646-4bc9-e207-d5aaba13ee56"
      },
      "outputs": [
        {
          "output_type": "stream",
          "name": "stdout",
          "text": [
            "Processed recipe 1: Miso-Butter Roast Chicken With Acorn Squash Panzanella\n",
            "Processed recipe 2: Crispy Salt and Pepper Potatoes\n",
            "Processed recipe 3: Thanksgiving Mac and Cheese\n",
            "Processed recipe 4: Italian Sausage and Bread Stuffing\n",
            "Processed recipe 5: Newton's Law\n",
            "Processed recipe 6: Warm Comfort\n",
            "Processed recipe 7: Apples and Oranges\n",
            "Processed recipe 8: Turmeric Hot Toddy\n",
            "Processed recipe 9: Instant Pot Lamb Haleem\n",
            "Processed recipe 10: Spiced Lentil and Caramelized Onion Baked Eggs\n",
            "Processed recipe 11: Hot Pimento Cheese Dip\n",
            "Processed recipe 12: Spiral Ham in the Slow Cooker\n",
            "Processed recipe 13: Butternut Squash and Apple Soup\n",
            "Processed recipe 14: Caesar Salad Roast Chicken\n",
            "Processed recipe 15: Chicken and Rice With Leeks and Salsa Verde\n",
            "Processed recipe 16: Gorditas con Camarones\n",
            "Processed recipe 17: Enfrijoladas\n",
            "Processed recipe 18: Caramelized Plantain Parfait\n",
            "Processed recipe 19: Chicken and Potato Gratin With Brown Butter Cream\n",
            "Processed recipe 20: Roasted Beets With Crispy Sunchokes and Pickled Orange-Ginger Purée\n",
            "Processed recipe 21: Kale and Pumpkin Falafels With Pickled Carrot Slaw\n"
          ]
        }
      ],
      "source": [
        "import os\n",
        "import csv\n",
        "import json\n",
        "from openai import OpenAI\n",
        "\n",
        "# Initialize client with API key\n",
        "client = OpenAI(api_key='')  # Replace with your actual key\n",
        "\n",
        "def generate_questions(title, ingredients):\n",
        "    prompt = f\"Generate 5 question variations a user might ask a chef about a recipe titled '{title}' with these ingredients: {ingredients}.\"\n",
        "    response = client.chat.completions.create(\n",
        "        model='gpt-4',\n",
        "        messages=[{'role': 'user', 'content': prompt}],\n",
        "        max_tokens=150,\n",
        "        temperature=0.7\n",
        "    )\n",
        "    return response.choices[0].message.content.strip()\n",
        "\n",
        "input_csv = '13k-recipes.csv'  # Your CSV file path\n",
        "output_base_folder = 'recipes_output'  # Base folder to hold all recipe folders\n",
        "\n",
        "os.makedirs(output_base_folder, exist_ok=True)\n",
        "\n",
        "with open(input_csv, newline='', encoding='utf-8') as csvfile:\n",
        "    reader = csv.DictReader(csvfile)\n",
        "    for idx, recipe in enumerate(reader, start=1):\n",
        "        # Create folder for each recipe\n",
        "        recipe_folder = os.path.join(output_base_folder, f'recipe_{idx}')\n",
        "        os.makedirs(recipe_folder, exist_ok=True)\n",
        "\n",
        "        # Save recipe data as JSON (or CSV if you prefer)\n",
        "        recipe_data_path = os.path.join(recipe_folder, 'recipe_data.json')\n",
        "        with open(recipe_data_path, 'w', encoding='utf-8') as f:\n",
        "            json.dump(recipe, f, ensure_ascii=False, indent=2)\n",
        "\n",
        "        # Generate questions\n",
        "        try:\n",
        "            questions = generate_questions(recipe['Title'], recipe['Cleaned_Ingredients'])\n",
        "        except Exception as e:\n",
        "            print(f\"Error generating questions for recipe {idx} ({recipe['Title']}): {e}\")\n",
        "            questions = \"Error generating questions.\"\n",
        "\n",
        "        # Save questions to a text file\n",
        "        questions_path = os.path.join(recipe_folder, 'question_variations.txt')\n",
        "        with open(questions_path, 'w', encoding='utf-8') as f:\n",
        "            f.write(questions)\n",
        "\n",
        "        print(f\"Processed recipe {idx}: {recipe['Title']}\")\n",
        "\n",
        "print(\"All recipes processed.\")\n"
      ]
    }
  ]
}